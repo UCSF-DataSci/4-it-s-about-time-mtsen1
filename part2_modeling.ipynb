{
 "cells": [
  {
   "cell_type": "markdown",
   "metadata": {},
   "source": [
    "# Part 2: Time Series Modeling\n",
    "\n",
    "In this notebook, you will implement functions to extract features from time series data and build ARIMA models."
   ]
  },
  {
   "cell_type": "code",
   "execution_count": 7,
   "metadata": {},
   "outputs": [],
   "source": [
    "# Import required libraries\n",
    "import numpy as np\n",
    "import pandas as pd\n",
    "import matplotlib.pyplot as plt\n",
    "import seaborn as sns\n",
    "from statsmodels.tsa.arima.model import ARIMA\n",
    "from pathlib import Path\n",
    "import os\n",
    "\n",
    "# Set style for plots\n",
    "plt.style.use('seaborn-v0_8')\n",
    "%matplotlib inline"
   ]
  },
  {
   "cell_type": "markdown",
   "metadata": {},
   "source": [
    "## 1. Feature Extraction\n",
    "\n",
    "Implement the `extract_time_series_features` function to calculate rolling window features."
   ]
  },
  {
   "cell_type": "code",
   "execution_count": null,
   "metadata": {},
   "outputs": [],
   "source": [
    "def extract_time_series_features(data, window_size=60):\n",
    "    \"\"\"Extract rolling window features from time series data.\n",
    "    \n",
    "    Parameters\n",
    "    ----------\n",
    "    data : pd.DataFrame\n",
    "        Preprocessed physiological data\n",
    "    window_size : int\n",
    "        Size of the rolling window in seconds\n",
    "        \n",
    "    Returns\n",
    "    -------\n",
    "    pd.DataFrame\n",
    "        DataFrame containing extracted features for each signal\n",
    "    \"\"\"\n",
    "      \n",
    "    data['timestamp'] = pd.to_datetime(data['timestamp'])\n",
    "    data['time_diff'] = data['timestamp'].diff().dt.total_seconds()\n",
    "    feature_columns = []\n",
    "    \n",
    "    # Function to calculate autocorrelation at lag 1\n",
    "    def autocorrelation(series, lag=1):\n",
    "        return series.autocorr(lag)\n",
    "    \n",
    "    for signal in ['heart_rate', 'eda', 'temperature']:\n",
    "        rolling = data[signal].rolling(window=window_size, min_periods=1)\n",
    "        \n",
    "        data[f'{signal}_mean'] = rolling.mean()\n",
    "        data[f'{signal}_std'] = rolling.std()\n",
    "        data[f'{signal}_min'] = rolling.min()\n",
    "        data[f'{signal}_max'] = rolling.max()\n",
    "        data[f'{signal}_autocorr_lag1'] = data[signal].rolling(window=window_size, min_periods=1).apply(lambda x: autocorrelation(x, lag=1), raw=False)\n",
    "        \n",
    "        feature_columns.extend([f'{signal}_mean', f'{signal}_std', f'{signal}_min', f'{signal}_max', f'{signal}_autocorr_lag1'])\n",
    "\n",
    "    features = data[feature_columns]\n",
    "    \n",
    "    return features\n",
    "    \n",
    "    pass"
   ]
  },
  {
   "cell_type": "code",
   "execution_count": null,
   "metadata": {},
   "outputs": [],
   "source": [
    "data = pd.read_csv('data/processed/S1_processed.csv')\n",
    "features_df = extract_time_series_features(data, window_size=60)\n"
   ]
  },
  {
   "cell_type": "markdown",
   "metadata": {},
   "source": [
    "## 2. ARIMA Modeling\n",
    "\n",
    "Implement the `build_arima_model` function to fit ARIMA models and generate diagnostic plots."
   ]
  },
  {
   "cell_type": "code",
   "execution_count": null,
   "metadata": {},
   "outputs": [],
   "source": [
    "def build_arima_model(series, order=(1,1,1), output_dir='plots', plot_name='arima'):\n",
    "    \"\"\"Fit an ARIMA model to the time series and generate diagnostic plots.\n",
    "    \n",
    "    Parameters\n",
    "    ----------\n",
    "    series : pd.Series\n",
    "        Time series data to model\n",
    "    order : tuple\n",
    "        (p,d,q) order of the ARIMA model\n",
    "    output_dir : str\n",
    "        Directory to save diagnostic plots\n",
    "        \n",
    "    Returns\n",
    "    -------\n",
    "    statsmodels.tsa.arima.model.ARIMAResults\n",
    "        Fitted ARIMA model\n",
    "    \"\"\"\n",
    "    # Create output directory if it doesn't exist\n",
    "    os.makedirs(output_dir, exist_ok=True)\n",
    "    \n",
    "    # Fit the ARIMA model\n",
    "    model = ARIMA(series, order=order)\n",
    "    fitted_model = model.fit()\n",
    "    \n",
    "    # ARIMA fit plot (Actual vs. Predicted)\n",
    "    plt.figure(figsize=(10, 6))\n",
    "    plt.plot(series, label='Actual', color='blue')\n",
    "    plt.plot(fitted_model.fittedvalues, label='Fitted', color='red')\n",
    "    plt.title(f'{plot_name}_ARIMA_fit')\n",
    "    plt.xlabel('Time')\n",
    "    plt.ylabel('Value')\n",
    "    plt.legend()\n",
    "    plt.tight_layout()\n",
    "    fit_plot_path = os.path.join(output_dir, f'{plot_name}_arima_fit.png')\n",
    "    plt.savefig(fit_plot_path)\n",
    "    plt.close()\n",
    "\n",
    "    # Residuals plot (Residuals vs. Time)\n",
    "    residuals = fitted_model.resid\n",
    "    plt.figure(figsize=(10, 6))\n",
    "    plt.plot(residuals, label='Residuals', color='green')\n",
    "    plt.title(f'{plot_name}_ARIMA_residuals')\n",
    "    plt.xlabel('Time')\n",
    "    plt.ylabel('Residuals')\n",
    "    plt.legend()\n",
    "    plt.tight_layout()\n",
    "    residuals_plot_path = os.path.join(output_dir, f'{plot_name}_arima_residuals.png')\n",
    "    plt.savefig(residuals_plot_path)\n",
    "    plt.close()\n",
    "    \n",
    "    return fitted_model"
   ]
  },
  {
   "cell_type": "code",
   "execution_count": 13,
   "metadata": {},
   "outputs": [],
   "source": [
    "series = data['heart_rate']\n",
    "\n",
    "fitted_model = build_arima_model(series, order=(1,1,1), output_dir='plots', plot_name='S1_Midterm1_heart_rate')\n"
   ]
  }
 ],
 "metadata": {
  "kernelspec": {
   "display_name": "Python 3",
   "language": "python",
   "name": "python3"
  },
  "language_info": {
   "codemirror_mode": {
    "name": "ipython",
    "version": 3
   },
   "file_extension": ".py",
   "mimetype": "text/x-python",
   "name": "python",
   "nbconvert_exporter": "python",
   "pygments_lexer": "ipython3",
   "version": "3.12.1"
  }
 },
 "nbformat": 4,
 "nbformat_minor": 4
}
